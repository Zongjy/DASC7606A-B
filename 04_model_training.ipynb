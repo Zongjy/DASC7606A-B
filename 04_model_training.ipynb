{
 "cells": [
  {
   "cell_type": "markdown",
   "metadata": {},
   "source": [
    "# Model Training\n",
    "\n",
    "This notebook orchestrates the training process for our Convolutional Neural Network (CNN). We will load the augmented dataset, configure the model and training parameters, execute the training loop with early stopping, and finally, save the best-performing model for later evaluation."
   ]
  },
  {
   "cell_type": "markdown",
   "metadata": {},
   "source": [
    "## 1. Setup and Imports\n",
    "\n",
    "First, we import all necessary libraries and set up the environment, including defining the computation device (GPU or CPU) and setting random seeds for reproducibility."
   ]
  },
  {
   "cell_type": "code",
   "execution_count": 5,
   "metadata": {},
   "outputs": [
    {
     "name": "stdout",
     "output_type": "stream",
     "text": [
      "Using device: cuda\n"
     ]
    }
   ],
   "source": [
    "import torch\n",
    "import torch.nn as nn\n",
    "import torch.optim as optim\n",
    "import numpy as np\n",
    "import matplotlib.pyplot as plt\n",
    "import os\n",
    "from torchvision import datasets, transforms\n",
    "from torch.utils.data import DataLoader, random_split\n",
    "from tqdm import tqdm\n",
    "\n",
    "# Import custom modules for model architecture and training utilities\n",
    "from scripts.model_architectures import SimpleCNN\n",
    "from scripts.train_utils import (\n",
    "    train_epoch,\n",
    "    validate_epoch,\n",
    "    save_checkpoint,\n",
    "    load_checkpoint,\n",
    ")\n",
    "\n",
    "# Set random seeds for reproducibility\n",
    "torch.manual_seed(42)\n",
    "np.random.seed(42)\n",
    "\n",
    "# Set up the computation device\n",
    "device = torch.device(\"cuda\" if torch.cuda.is_available() else \"cpu\")\n",
    "print(f\"Using device: {device}\")\n"
   ]
  },
  {
   "cell_type": "markdown",
   "metadata": {},
   "source": [
    "## 2. Data Preparation\n",
    "\n",
    "In this step, we define the data transformations, load the augmented dataset, split it into training and validation sets, and create data loaders to efficiently feed the data to the model. Corresponding function in train_utils.py: `load_data`"
   ]
  },
  {
   "cell_type": "code",
   "execution_count": 6,
   "metadata": {},
   "outputs": [
    {
     "name": "stdout",
     "output_type": "stream",
     "text": [
      "Dataset loaded from: data/augmented/train\n",
      "Total images: 200000\n",
      "Number of classes: 100\n",
      "Class names: ['apple', 'aquarium_fish', 'baby', 'bear', 'beaver', 'bed', 'bee', 'beetle', 'bicycle', 'bottle', 'bowl', 'boy', 'bridge', 'bus', 'butterfly', 'camel', 'can', 'castle', 'caterpillar', 'cattle', 'chair', 'chimpanzee', 'clock', 'cloud', 'cockroach', 'couch', 'crab', 'crocodile', 'cup', 'dinosaur', 'dolphin', 'elephant', 'flatfish', 'forest', 'fox', 'girl', 'hamster', 'house', 'kangaroo', 'keyboard', 'lamp', 'lawn_mower', 'leopard', 'lion', 'lizard', 'lobster', 'man', 'maple_tree', 'motorcycle', 'mountain', 'mouse', 'mushroom', 'oak_tree', 'orange', 'orchid', 'otter', 'palm_tree', 'pear', 'pickup_truck', 'pine_tree', 'plain', 'plate', 'poppy', 'porcupine', 'possum', 'rabbit', 'raccoon', 'ray', 'road', 'rocket', 'rose', 'sea', 'seal', 'shark', 'shrew', 'skunk', 'skyscraper', 'snail', 'snake', 'spider', 'squirrel', 'streetcar', 'sunflower', 'sweet_pepper', 'table', 'tank', 'telephone', 'television', 'tiger', 'tractor', 'train', 'trout', 'tulip', 'turtle', 'wardrobe', 'whale', 'willow_tree', 'wolf', 'woman', 'worm']\n",
      "Training set size: 160000\n",
      "Validation set size: 40000\n"
     ]
    }
   ],
   "source": [
    "# Define data transformations: resize, convert to tensor, and normalize\n",
    "data_transforms = transforms.Compose([\n",
    "    transforms.Resize((32, 32)),\n",
    "    transforms.ToTensor(),\n",
    "    transforms.Normalize((0.5, 0.5, 0.5), (0.5, 0.5, 0.5))\n",
    "])\n",
    "\n",
    "# Load the full dataset from the augmented data directory\n",
    "train_data_dir = \"data/augmented/train\"\n",
    "full_dataset = datasets.ImageFolder(root=train_data_dir, transform=data_transforms)\n",
    "\n",
    "# Split the dataset into training and validation sets (80/20 split)\n",
    "train_size = int(0.8 * len(full_dataset))\n",
    "val_size = len(full_dataset) - train_size\n",
    "train_dataset, val_dataset = random_split(\n",
    "    full_dataset, [train_size, val_size],\n",
    "    generator=torch.Generator().manual_seed(42)\n",
    ")\n",
    "\n",
    "# Create data loaders for training and validation\n",
    "batch_size = 64\n",
    "train_loader = DataLoader(train_dataset, batch_size=batch_size, shuffle=True, num_workers=2)\n",
    "val_loader = DataLoader(val_dataset, batch_size=batch_size, shuffle=False, num_workers=2)\n",
    "\n",
    "# Print dataset summary\n",
    "print(f\"Dataset loaded from: {train_data_dir}\")\n",
    "print(f\"Total images: {len(full_dataset)}\")\n",
    "print(f\"Number of classes: {len(full_dataset.classes)}\")\n",
    "print(f\"Class names: {full_dataset.classes}\")\n",
    "print(f\"Training set size: {len(train_dataset)}\")\n",
    "print(f\"Validation set size: {len(val_dataset)}\")\n"
   ]
  },
  {
   "cell_type": "markdown",
   "metadata": {},
   "source": [
    "## 3. Model Configuration\n",
    "\n",
    "Here, we initialize our `SimpleCNN` model and move it to the selected device. We also define the loss function, the optimizer, and a learning rate scheduler to adjust the learning rate based on validation performance."
   ]
  },
  {
   "cell_type": "code",
   "execution_count": 7,
   "metadata": {},
   "outputs": [],
   "source": [
    "# Initialize the model and move it to the device\n",
    "model = SimpleCNN(num_classes=100).to(device)\n",
    "\n",
    "# Define the loss function (Criterion)\n",
    "criterion = nn.CrossEntropyLoss()\n",
    "\n",
    "# Define the optimizer with weight decay for regularization\n",
    "optimizer = optim.Adam(model.parameters(), lr=0.001, weight_decay=1e-5)\n",
    "\n",
    "# Define a learning rate scheduler to reduce LR on plateau\n",
    "scheduler = optim.lr_scheduler.ReduceLROnPlateau(\n",
    "    optimizer, mode=\"min\", factor=0.5, patience=3\n",
    ")\n"
   ]
  },
  {
   "cell_type": "markdown",
   "metadata": {},
   "source": [
    "## 4. Training Configuration\n",
    "\n",
    "We set the hyperparameters for the training loop, such as the number of epochs and the patience for early stopping. We also initialize variables to track the best model and lists to store the training history."
   ]
  },
  {
   "cell_type": "code",
   "execution_count": 8,
   "metadata": {},
   "outputs": [
    {
     "name": "stdout",
     "output_type": "stream",
     "text": [
      "Training configured for 50 epochs with early stopping patience of 5.\n"
     ]
    }
   ],
   "source": [
    "# Training hyperparameters\n",
    "num_epochs = 50\n",
    "early_stopping_patience = 5\n",
    "\n",
    "# Initialize tracking variables\n",
    "best_val_loss = float(\"inf\")\n",
    "patience_counter = 0\n",
    "\n",
    "# Lists to store training history for later plotting\n",
    "train_losses = []\n",
    "val_losses = []\n",
    "train_accuracies = []\n",
    "val_accuracies = []\n",
    "\n",
    "# Create directories for saving models and results if they don't exist\n",
    "os.makedirs(\"models\", exist_ok=True)\n",
    "os.makedirs(\"results\", exist_ok=True)\n",
    "\n",
    "print(f\"Training configured for {num_epochs} epochs with early stopping patience of {early_stopping_patience}.\")\n"
   ]
  },
  {
   "cell_type": "markdown",
   "metadata": {},
   "source": [
    "## 5. Model Training\n",
    "\n",
    "This is the main training loop. For each epoch, we train the model on the training set and then evaluate its performance on the validation set. We save the model checkpoint whenever the validation loss improves and stop training early if there is no improvement for a set number of epochs."
   ]
  },
  {
   "cell_type": "code",
   "execution_count": 9,
   "metadata": {},
   "outputs": [
    {
     "name": "stdout",
     "output_type": "stream",
     "text": [
      "Starting training...\n"
     ]
    },
    {
     "name": "stderr",
     "output_type": "stream",
     "text": [
      "                                                                                      \r"
     ]
    },
    {
     "name": "stdout",
     "output_type": "stream",
     "text": [
      "Epoch 1/50:\n",
      "  Train Loss: 3.6608, Train Acc: 13.96%\n",
      "  Val Loss: 3.1445, Val Acc: 23.75%\n",
      "  ↳ Validation loss improved. Saving best model!\n"
     ]
    },
    {
     "name": "stderr",
     "output_type": "stream",
     "text": [
      "                                                                                      \r"
     ]
    },
    {
     "name": "stdout",
     "output_type": "stream",
     "text": [
      "Epoch 2/50:\n",
      "  Train Loss: 3.1371, Train Acc: 23.15%\n",
      "  Val Loss: 2.8071, Val Acc: 29.64%\n",
      "  ↳ Validation loss improved. Saving best model!\n"
     ]
    },
    {
     "name": "stderr",
     "output_type": "stream",
     "text": [
      "                                                                                      \r"
     ]
    },
    {
     "name": "stdout",
     "output_type": "stream",
     "text": [
      "Epoch 3/50:\n",
      "  Train Loss: 2.9286, Train Acc: 27.17%\n",
      "  Val Loss: 2.6270, Val Acc: 33.52%\n",
      "  ↳ Validation loss improved. Saving best model!\n"
     ]
    },
    {
     "name": "stderr",
     "output_type": "stream",
     "text": [
      "                                                                                      \r"
     ]
    },
    {
     "name": "stdout",
     "output_type": "stream",
     "text": [
      "Epoch 4/50:\n",
      "  Train Loss: 2.7890, Train Acc: 29.80%\n",
      "  Val Loss: 2.5607, Val Acc: 35.14%\n",
      "  ↳ Validation loss improved. Saving best model!\n"
     ]
    },
    {
     "name": "stderr",
     "output_type": "stream",
     "text": [
      "                                                                                      \r"
     ]
    },
    {
     "name": "stdout",
     "output_type": "stream",
     "text": [
      "Epoch 5/50:\n",
      "  Train Loss: 2.6903, Train Acc: 31.77%\n",
      "  Val Loss: 2.4925, Val Acc: 36.64%\n",
      "  ↳ Validation loss improved. Saving best model!\n"
     ]
    },
    {
     "name": "stderr",
     "output_type": "stream",
     "text": [
      "                                                                                      \r"
     ]
    },
    {
     "name": "stdout",
     "output_type": "stream",
     "text": [
      "Epoch 6/50:\n",
      "  Train Loss: 2.6072, Train Acc: 33.51%\n",
      "  Val Loss: 2.4274, Val Acc: 37.64%\n",
      "  ↳ Validation loss improved. Saving best model!\n"
     ]
    },
    {
     "name": "stderr",
     "output_type": "stream",
     "text": [
      "                                                                                      \r"
     ]
    },
    {
     "name": "stdout",
     "output_type": "stream",
     "text": [
      "Epoch 7/50:\n",
      "  Train Loss: 2.5337, Train Acc: 35.11%\n",
      "  Val Loss: 2.3843, Val Acc: 38.36%\n",
      "  ↳ Validation loss improved. Saving best model!\n"
     ]
    },
    {
     "name": "stderr",
     "output_type": "stream",
     "text": [
      "                                                                                      \r"
     ]
    },
    {
     "name": "stdout",
     "output_type": "stream",
     "text": [
      "Epoch 8/50:\n",
      "  Train Loss: 2.4732, Train Acc: 36.13%\n",
      "  Val Loss: 2.3271, Val Acc: 39.85%\n",
      "  ↳ Validation loss improved. Saving best model!\n"
     ]
    },
    {
     "name": "stderr",
     "output_type": "stream",
     "text": [
      "                                                                                      \r"
     ]
    },
    {
     "name": "stdout",
     "output_type": "stream",
     "text": [
      "Epoch 9/50:\n",
      "  Train Loss: 2.4109, Train Acc: 37.53%\n",
      "  Val Loss: 2.3016, Val Acc: 40.45%\n",
      "  ↳ Validation loss improved. Saving best model!\n"
     ]
    },
    {
     "name": "stderr",
     "output_type": "stream",
     "text": [
      "                                                                                      \r"
     ]
    },
    {
     "name": "stdout",
     "output_type": "stream",
     "text": [
      "Epoch 10/50:\n",
      "  Train Loss: 2.3592, Train Acc: 38.43%\n",
      "  Val Loss: 2.2362, Val Acc: 41.90%\n",
      "  ↳ Validation loss improved. Saving best model!\n"
     ]
    },
    {
     "name": "stderr",
     "output_type": "stream",
     "text": [
      "                                                                                      \r"
     ]
    },
    {
     "name": "stdout",
     "output_type": "stream",
     "text": [
      "Epoch 11/50:\n",
      "  Train Loss: 2.3036, Train Acc: 39.67%\n",
      "  Val Loss: 2.2318, Val Acc: 42.09%\n",
      "  ↳ Validation loss improved. Saving best model!\n"
     ]
    },
    {
     "name": "stderr",
     "output_type": "stream",
     "text": [
      "                                                                                      \r"
     ]
    },
    {
     "name": "stdout",
     "output_type": "stream",
     "text": [
      "Epoch 12/50:\n",
      "  Train Loss: 2.2633, Train Acc: 40.45%\n",
      "  Val Loss: 2.1981, Val Acc: 42.51%\n",
      "  ↳ Validation loss improved. Saving best model!\n"
     ]
    },
    {
     "name": "stderr",
     "output_type": "stream",
     "text": [
      "                                                                                      \r"
     ]
    },
    {
     "name": "stdout",
     "output_type": "stream",
     "text": [
      "Epoch 13/50:\n",
      "  Train Loss: 2.2184, Train Acc: 41.50%\n",
      "  Val Loss: 2.1873, Val Acc: 43.21%\n",
      "  ↳ Validation loss improved. Saving best model!\n"
     ]
    },
    {
     "name": "stderr",
     "output_type": "stream",
     "text": [
      "                                                                                      \r"
     ]
    },
    {
     "name": "stdout",
     "output_type": "stream",
     "text": [
      "Epoch 14/50:\n",
      "  Train Loss: 2.1737, Train Acc: 42.36%\n",
      "  Val Loss: 2.1675, Val Acc: 43.22%\n",
      "  ↳ Validation loss improved. Saving best model!\n"
     ]
    },
    {
     "name": "stderr",
     "output_type": "stream",
     "text": [
      "                                                                                      \r"
     ]
    },
    {
     "name": "stdout",
     "output_type": "stream",
     "text": [
      "Epoch 15/50:\n",
      "  Train Loss: 2.1366, Train Acc: 43.09%\n",
      "  Val Loss: 2.1475, Val Acc: 43.94%\n",
      "  ↳ Validation loss improved. Saving best model!\n"
     ]
    },
    {
     "name": "stderr",
     "output_type": "stream",
     "text": [
      "                                                                                      \r"
     ]
    },
    {
     "name": "stdout",
     "output_type": "stream",
     "text": [
      "Epoch 16/50:\n",
      "  Train Loss: 2.1010, Train Acc: 43.94%\n",
      "  Val Loss: 2.1294, Val Acc: 44.16%\n",
      "  ↳ Validation loss improved. Saving best model!\n"
     ]
    },
    {
     "name": "stderr",
     "output_type": "stream",
     "text": [
      "                                                                                      \r"
     ]
    },
    {
     "name": "stdout",
     "output_type": "stream",
     "text": [
      "Epoch 17/50:\n",
      "  Train Loss: 2.0660, Train Acc: 44.71%\n",
      "  Val Loss: 2.1278, Val Acc: 44.28%\n",
      "  ↳ Validation loss improved. Saving best model!\n"
     ]
    },
    {
     "name": "stderr",
     "output_type": "stream",
     "text": [
      "                                                                                      \r"
     ]
    },
    {
     "name": "stdout",
     "output_type": "stream",
     "text": [
      "Epoch 18/50:\n",
      "  Train Loss: 2.0306, Train Acc: 45.30%\n",
      "  Val Loss: 2.1046, Val Acc: 44.92%\n",
      "  ↳ Validation loss improved. Saving best model!\n"
     ]
    },
    {
     "name": "stderr",
     "output_type": "stream",
     "text": [
      "                                                                                      \r"
     ]
    },
    {
     "name": "stdout",
     "output_type": "stream",
     "text": [
      "Epoch 19/50:\n",
      "  Train Loss: 1.9994, Train Acc: 46.14%\n",
      "  Val Loss: 2.1007, Val Acc: 45.20%\n",
      "  ↳ Validation loss improved. Saving best model!\n"
     ]
    },
    {
     "name": "stderr",
     "output_type": "stream",
     "text": [
      "                                                                                      \r"
     ]
    },
    {
     "name": "stdout",
     "output_type": "stream",
     "text": [
      "Epoch 20/50:\n",
      "  Train Loss: 1.9725, Train Acc: 46.56%\n",
      "  Val Loss: 2.0860, Val Acc: 45.58%\n",
      "  ↳ Validation loss improved. Saving best model!\n"
     ]
    },
    {
     "name": "stderr",
     "output_type": "stream",
     "text": [
      "                                                                                      \r"
     ]
    },
    {
     "name": "stdout",
     "output_type": "stream",
     "text": [
      "Epoch 21/50:\n",
      "  Train Loss: 1.9453, Train Acc: 47.32%\n",
      "  Val Loss: 2.0664, Val Acc: 45.79%\n",
      "  ↳ Validation loss improved. Saving best model!\n"
     ]
    },
    {
     "name": "stderr",
     "output_type": "stream",
     "text": [
      "                                                                                      \r"
     ]
    },
    {
     "name": "stdout",
     "output_type": "stream",
     "text": [
      "Epoch 22/50:\n",
      "  Train Loss: 1.9228, Train Acc: 47.49%\n",
      "  Val Loss: 2.0838, Val Acc: 45.40%\n",
      "  ↳ No improvement. Early stopping counter: 1/5\n"
     ]
    },
    {
     "name": "stderr",
     "output_type": "stream",
     "text": [
      "                                                                                      \r"
     ]
    },
    {
     "name": "stdout",
     "output_type": "stream",
     "text": [
      "Epoch 23/50:\n",
      "  Train Loss: 1.8966, Train Acc: 48.34%\n",
      "  Val Loss: 2.0975, Val Acc: 45.58%\n",
      "  ↳ No improvement. Early stopping counter: 2/5\n"
     ]
    },
    {
     "name": "stderr",
     "output_type": "stream",
     "text": [
      "                                                                                      \r"
     ]
    },
    {
     "name": "stdout",
     "output_type": "stream",
     "text": [
      "Epoch 24/50:\n",
      "  Train Loss: 1.8745, Train Acc: 48.72%\n",
      "  Val Loss: 2.0850, Val Acc: 45.40%\n",
      "  ↳ No improvement. Early stopping counter: 3/5\n"
     ]
    },
    {
     "name": "stderr",
     "output_type": "stream",
     "text": [
      "                                                                                      \r"
     ]
    },
    {
     "name": "stdout",
     "output_type": "stream",
     "text": [
      "Epoch 25/50:\n",
      "  Train Loss: 1.8539, Train Acc: 49.11%\n",
      "  Val Loss: 2.0718, Val Acc: 45.92%\n",
      "  ↳ No improvement. Early stopping counter: 4/5\n"
     ]
    },
    {
     "name": "stderr",
     "output_type": "stream",
     "text": [
      "                                                                                      \r"
     ]
    },
    {
     "name": "stdout",
     "output_type": "stream",
     "text": [
      "Epoch 26/50:\n",
      "  Train Loss: 1.6713, Train Acc: 53.35%\n",
      "  Val Loss: 1.9805, Val Acc: 48.35%\n",
      "  ↳ Validation loss improved. Saving best model!\n"
     ]
    },
    {
     "name": "stderr",
     "output_type": "stream",
     "text": [
      "                                                                                      \r"
     ]
    },
    {
     "name": "stdout",
     "output_type": "stream",
     "text": [
      "Epoch 27/50:\n",
      "  Train Loss: 1.6144, Train Acc: 54.52%\n",
      "  Val Loss: 2.0001, Val Acc: 47.93%\n",
      "  ↳ No improvement. Early stopping counter: 1/5\n"
     ]
    },
    {
     "name": "stderr",
     "output_type": "stream",
     "text": [
      "                                                                                      \r"
     ]
    },
    {
     "name": "stdout",
     "output_type": "stream",
     "text": [
      "Epoch 28/50:\n",
      "  Train Loss: 1.5794, Train Acc: 55.41%\n",
      "  Val Loss: 1.9871, Val Acc: 48.39%\n",
      "  ↳ No improvement. Early stopping counter: 2/5\n"
     ]
    },
    {
     "name": "stderr",
     "output_type": "stream",
     "text": [
      "                                                                                      \r"
     ]
    },
    {
     "name": "stdout",
     "output_type": "stream",
     "text": [
      "Epoch 29/50:\n",
      "  Train Loss: 1.5547, Train Acc: 55.97%\n",
      "  Val Loss: 1.9816, Val Acc: 48.55%\n",
      "  ↳ No improvement. Early stopping counter: 3/5\n"
     ]
    },
    {
     "name": "stderr",
     "output_type": "stream",
     "text": [
      "                                                                                      \r"
     ]
    },
    {
     "name": "stdout",
     "output_type": "stream",
     "text": [
      "Epoch 30/50:\n",
      "  Train Loss: 1.5237, Train Acc: 56.55%\n",
      "  Val Loss: 1.9866, Val Acc: 48.53%\n",
      "  ↳ No improvement. Early stopping counter: 4/5\n"
     ]
    },
    {
     "name": "stderr",
     "output_type": "stream",
     "text": [
      "                                                                                      \r"
     ]
    },
    {
     "name": "stdout",
     "output_type": "stream",
     "text": [
      "Epoch 31/50:\n",
      "  Train Loss: 1.4229, Train Acc: 59.11%\n",
      "  Val Loss: 1.9509, Val Acc: 49.73%\n",
      "  ↳ Validation loss improved. Saving best model!\n"
     ]
    },
    {
     "name": "stderr",
     "output_type": "stream",
     "text": [
      "                                                                                      \r"
     ]
    },
    {
     "name": "stdout",
     "output_type": "stream",
     "text": [
      "Epoch 32/50:\n",
      "  Train Loss: 1.3952, Train Acc: 59.85%\n",
      "  Val Loss: 1.9618, Val Acc: 49.42%\n",
      "  ↳ No improvement. Early stopping counter: 1/5\n"
     ]
    },
    {
     "name": "stderr",
     "output_type": "stream",
     "text": [
      "                                                                                      \r"
     ]
    },
    {
     "name": "stdout",
     "output_type": "stream",
     "text": [
      "Epoch 33/50:\n",
      "  Train Loss: 1.3712, Train Acc: 60.38%\n",
      "  Val Loss: 1.9592, Val Acc: 49.91%\n",
      "  ↳ No improvement. Early stopping counter: 2/5\n"
     ]
    },
    {
     "name": "stderr",
     "output_type": "stream",
     "text": [
      "                                                                                      \r"
     ]
    },
    {
     "name": "stdout",
     "output_type": "stream",
     "text": [
      "Epoch 34/50:\n",
      "  Train Loss: 1.3562, Train Acc: 60.70%\n",
      "  Val Loss: 1.9611, Val Acc: 49.98%\n",
      "  ↳ No improvement. Early stopping counter: 3/5\n"
     ]
    },
    {
     "name": "stderr",
     "output_type": "stream",
     "text": [
      "                                                                                      \r"
     ]
    },
    {
     "name": "stdout",
     "output_type": "stream",
     "text": [
      "Epoch 35/50:\n",
      "  Train Loss: 1.3388, Train Acc: 61.08%\n",
      "  Val Loss: 1.9699, Val Acc: 49.80%\n",
      "  ↳ No improvement. Early stopping counter: 4/5\n"
     ]
    },
    {
     "name": "stderr",
     "output_type": "stream",
     "text": [
      "                                                                                      "
     ]
    },
    {
     "name": "stdout",
     "output_type": "stream",
     "text": [
      "Epoch 36/50:\n",
      "  Train Loss: 1.2793, Train Acc: 62.73%\n",
      "  Val Loss: 1.9624, Val Acc: 50.18%\n",
      "  ↳ No improvement. Early stopping counter: 5/5\n",
      "\n",
      "Early stopping triggered after 36 epochs!\n",
      "\n",
      "Training completed!\n"
     ]
    },
    {
     "name": "stderr",
     "output_type": "stream",
     "text": [
      "\r"
     ]
    }
   ],
   "source": [
    "print(\"Starting training...\")\n",
    "for epoch in range(num_epochs):\n",
    "    # Train for one epoch\n",
    "    train_loss, train_acc = train_epoch(\n",
    "        model, train_loader, criterion, optimizer, device\n",
    "    )\n",
    "\n",
    "    # Validate the model\n",
    "    val_loss, val_acc = validate_epoch(model, val_loader, criterion, device)\n",
    "\n",
    "    # Update learning rate based on validation loss\n",
    "    scheduler.step(val_loss)\n",
    "\n",
    "    # Store metrics for plotting\n",
    "    train_losses.append(train_loss)\n",
    "    val_losses.append(val_loss)\n",
    "    train_accuracies.append(train_acc)\n",
    "    val_accuracies.append(val_acc)\n",
    "\n",
    "    # Print epoch summary\n",
    "    print(f\"Epoch {epoch + 1}/{num_epochs}:\")\n",
    "    print(f\"  Train Loss: {train_loss:.4f}, Train Acc: {train_acc:.2f}%\")\n",
    "    print(f\"  Val Loss: {val_loss:.4f}, Val Acc: {val_acc:.2f}%\")\n",
    "\n",
    "    # Check for improvement and save the best model\n",
    "    if val_loss < best_val_loss:\n",
    "        best_val_loss = val_loss\n",
    "        patience_counter = 0\n",
    "        save_checkpoint(\n",
    "            {\n",
    "                \"epoch\": epoch + 1,\n",
    "                \"state_dict\": model.state_dict(),\n",
    "                \"best_val_loss\": best_val_loss,\n",
    "                \"optimizer\": optimizer.state_dict(),\n",
    "                \"scheduler\": scheduler.state_dict(),\n",
    "            },\n",
    "            \"models/best_model.pth\",\n",
    "        )\n",
    "        print(\"  ↳ Validation loss improved. Saving best model!\")\n",
    "    else:\n",
    "        patience_counter += 1\n",
    "        print(\n",
    "            f\"  ↳ No improvement. Early stopping counter: {patience_counter}/{early_stopping_patience}\"\n",
    "        )\n",
    "\n",
    "    # Check for early stopping\n",
    "    if patience_counter >= early_stopping_patience:\n",
    "        print(f\"\\nEarly stopping triggered after {epoch + 1} epochs!\")\n",
    "        break\n",
    "\n",
    "print(\"\\nTraining completed!\")\n"
   ]
  },
  {
   "cell_type": "markdown",
   "metadata": {},
   "source": [
    "## 6. Analyze Training Results\n",
    "\n",
    "After training, we save the collected metrics (loss and accuracy) and visualize them to understand the model's learning progress and identify potential issues like overfitting."
   ]
  },
  {
   "cell_type": "code",
   "execution_count": 10,
   "metadata": {},
   "outputs": [
    {
     "name": "stdout",
     "output_type": "stream",
     "text": [
      "Training history saved to 'results/' directory.\n"
     ]
    }
   ],
   "source": [
    "# Save the training history to numpy arrays\n",
    "np.save(\"results/train_losses.npy\", np.array(train_losses))\n",
    "np.save(\"results/val_losses.npy\", np.array(val_losses))\n",
    "np.save(\"results/train_accuracies.npy\", np.array(train_accuracies))\n",
    "np.save(\"results/val_accuracies.npy\", np.array(val_accuracies))\n",
    "\n",
    "print(\"Training history saved to 'results/' directory.\")\n"
   ]
  },
  {
   "cell_type": "code",
   "execution_count": 11,
   "metadata": {},
   "outputs": [
    {
     "name": "stdout",
     "output_type": "stream",
     "text": [
      "Training history plot saved as 'results/training_history.png'.\n"
     ]
    },
    {
     "data": {
      "image/png": "[encoded data removed]",
      "text/plain": [
       "<Figure size 1400x600 with 2 Axes>"
      ]
     },
     "metadata": {},
     "output_type": "display_data"
    }
   ],
   "source": [
    "# Plot the training and validation history\n",
    "plt.figure(figsize=(14, 6))\n",
    "\n",
    "# Plot Loss\n",
    "plt.subplot(1, 2, 1)\n",
    "plt.plot(train_losses, label=\"Training Loss\")\n",
    "plt.plot(val_losses, label=\"Validation Loss\")\n",
    "plt.xlabel(\"Epoch\")\n",
    "plt.ylabel(\"Loss\")\n",
    "plt.title(\"Training and Validation Loss\")\n",
    "plt.legend()\n",
    "plt.grid(True)\n",
    "\n",
    "# Plot Accuracy\n",
    "plt.subplot(1, 2, 2)\n",
    "plt.plot(train_accuracies, label=\"Training Accuracy\")\n",
    "plt.plot(val_accuracies, label=\"Validation Accuracy\")\n",
    "plt.xlabel(\"Epoch\")\n",
    "plt.ylabel(\"Accuracy (%)\")\n",
    "plt.title(\"Training and Validation Accuracy\")\n",
    "plt.legend()\n",
    "plt.grid(True)\n",
    "\n",
    "plt.tight_layout()\n",
    "plt.savefig(\"results/training_history.png\")\n",
    "print(\"Training history plot saved as 'results/training_history.png'.\")\n",
    "plt.show()\n"
   ]
  },
  {
   "cell_type": "markdown",
   "metadata": {},
   "source": [
    "## 7. Save Final Model\n",
    "\n",
    "Finally, we load the best-performing checkpoint (based on the lowest validation loss) and save the model's state dictionary. This clean, final model is ready for inference and evaluation in the next notebook."
   ]
  },
  {
   "cell_type": "code",
   "execution_count": 12,
   "metadata": {},
   "outputs": [
    {
     "name": "stdout",
     "output_type": "stream",
     "text": [
      "Loaded best model from epoch 31 with validation loss 1.9509\n",
      "Final model state_dict saved to 'models/final_model.pth'.\n",
      "\n",
      "Model training complete! Proceed to the next notebook for model evaluation.\n"
     ]
    }
   ],
   "source": [
    "# Load the best model checkpoint saved during training\n",
    "checkpoint = torch.load(\"models/best_model.pth\")\n",
    "model.load_state_dict(checkpoint[\"state_dict\"])\n",
    "\n",
    "# Retrieve details from the checkpoint\n",
    "best_epoch = checkpoint[\"epoch\"]\n",
    "best_val_loss_loaded = checkpoint[\"best_val_loss\"]\n",
    "\n",
    "print(f\"Loaded best model from epoch {best_epoch} with validation loss {best_val_loss_loaded:.4f}\")\n",
    "\n",
    "# Save the final model's state_dict for easy use in evaluation/inference\n",
    "torch.save(model.state_dict(), \"models/final_model.pth\")\n",
    "print(\"Final model state_dict saved to 'models/final_model.pth'.\")\n",
    "\n",
    "print(\"\\nModel training complete! Proceed to the next notebook for model evaluation.\")\n"
   ]
  },
  {
   "cell_type": "code",
   "execution_count": null,
   "metadata": {},
   "outputs": [],
   "source": []
  }
 ],
 "metadata": {
  "jupytext": {
   "text_representation": {
    "extension": ".py",
    "format_name": "light",
    "format_version": "1.5",
    "jupytext_version": "1.14.5"
   }
  },
  "kernelspec": {
   "display_name": "DASC7606A-B",
   "language": "python",
   "name": "python3"
  },
  "language_info": {
   "codemirror_mode": {
    "name": "ipython",
    "version": 3
   },
   "file_extension": ".py",
   "mimetype": "text/x-python",
   "name": "python",
   "nbconvert_exporter": "python",
   "pygments_lexer": "ipython3",
   "version": "3.13.2"
  }
 },
 "nbformat": 4,
 "nbformat_minor": 4
}
