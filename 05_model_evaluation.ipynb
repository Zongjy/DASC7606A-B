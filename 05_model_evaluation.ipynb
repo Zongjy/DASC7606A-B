{
 "cells": [
  {
   "cell_type": "markdown",
   "metadata": {},
   "source": [
    "# Comprehensive Model Evaluation\n",
    "\n",
    "In this notebook, we will conduct a thorough evaluation of our trained Convolutional Neural Network (CNN) on the unseen test dataset. The goal is to move beyond a single accuracy score and gain a deeper understanding of the model's performance, its strengths, and its weaknesses.\n",
    "\n",
    "We will cover:\n",
    "1.  **Overall Performance:** Calculating test loss and accuracy.\n",
    "2.  **Class-level Metrics:** Generating a detailed classification report with precision, recall, and F1-score.\n",
    "3.  **Advanced Metrics:** Computing Top-K accuracy.\n",
    "4.  **Visualizations:** Plotting a confusion matrix and ROC curves for an intuitive understanding of performance.\n",
    "5.  **Qualitative Analysis:** Visualizing individual predictions and performing an error analysis to identify common misclassifications."
   ]
  },
  {
   "cell_type": "markdown",
   "metadata": {},
   "source": [
    "## 1. Setup and Imports\n",
    "\n",
    "First, we'll import all the necessary libraries and helper functions. This includes `torch` and `torchvision` for data handling and modeling, `sklearn` for evaluation metrics, `matplotlib` for plotting, and our custom scripts for model architecture and evaluation utilities."
   ]
  },
  {
   "cell_type": "code",
   "execution_count": 1,
   "metadata": {},
   "outputs": [],
   "source": [
    "# PyTorch and Torchvision\n",
    "import torch\n",
    "from torch import nn\n",
    "from torch.utils.data import DataLoader\n",
    "from torchvision import datasets, transforms\n",
    "\n",
    "# Data science and plotting libraries\n",
    "import numpy as np\n",
    "import matplotlib.pyplot as plt\n",
    "from sklearn.metrics import classification_report, confusion_matrix\n",
    "\n",
    "# Custom helper scripts\n",
    "from scripts.model_architectures import SimpleCNN\n",
    "from scripts.evaluation_metrics import (\n",
    "    evaluate_model,\n",
    "    plot_confusion_matrix,\n",
    "    plot_roc_curves,\n",
    "    visualize_predictions,\n",
    "    top_k_accuracy,\n",
    "    plot_precision_recall_curves, # Although not used in the final version, good to have\n",
    "    plot_calibration_curve,     # Although not used in the final version, good to have\n",
    ")\n"
   ]
  },
  {
   "cell_type": "markdown",
   "metadata": {},
   "source": [
    "## 2. Data and Model Loading\n",
    "\n",
    "Next, we will prepare the test dataset and load our best-performing model checkpoint that was saved during the training phase."
   ]
  },
  {
   "cell_type": "code",
   "execution_count": 2,
   "metadata": {},
   "outputs": [
    {
     "name": "stdout",
     "output_type": "stream",
     "text": [
      "Using device: cuda\n",
      "Test dataset loaded from data/raw/test\n",
      "Test set size: 10000\n",
      "Classes: ['apple', 'aquarium_fish', 'baby', 'bear', 'beaver', 'bed', 'bee', 'beetle', 'bicycle', 'bottle', 'bowl', 'boy', 'bridge', 'bus', 'butterfly', 'camel', 'can', 'castle', 'caterpillar', 'cattle', 'chair', 'chimpanzee', 'clock', 'cloud', 'cockroach', 'couch', 'crab', 'crocodile', 'cup', 'dinosaur', 'dolphin', 'elephant', 'flatfish', 'forest', 'fox', 'girl', 'hamster', 'house', 'kangaroo', 'keyboard', 'lamp', 'lawn_mower', 'leopard', 'lion', 'lizard', 'lobster', 'man', 'maple_tree', 'motorcycle', 'mountain', 'mouse', 'mushroom', 'oak_tree', 'orange', 'orchid', 'otter', 'palm_tree', 'pear', 'pickup_truck', 'pine_tree', 'plain', 'plate', 'poppy', 'porcupine', 'possum', 'rabbit', 'raccoon', 'ray', 'road', 'rocket', 'rose', 'sea', 'seal', 'shark', 'shrew', 'skunk', 'skyscraper', 'snail', 'snake', 'spider', 'squirrel', 'streetcar', 'sunflower', 'sweet_pepper', 'table', 'tank', 'telephone', 'television', 'tiger', 'tractor', 'train', 'trout', 'tulip', 'turtle', 'wardrobe', 'whale', 'willow_tree', 'wolf', 'woman', 'worm']\n"
     ]
    }
   ],
   "source": [
    "# --- 2.1. Load Test Dataset ---\n",
    "\n",
    "# Define the device for computation (GPU if available, otherwise CPU)\n",
    "device = torch.device(\"cuda\" if torch.cuda.is_available() else \"cpu\")\n",
    "print(f\"Using device: {device}\")\n",
    "\n",
    "# Define data transformations for the test set\n",
    "# These should match the validation transformations to ensure consistency\n",
    "test_transforms = transforms.Compose([\n",
    "    transforms.Resize((32, 32)),\n",
    "    transforms.ToTensor(),\n",
    "    transforms.Normalize((0.5, 0.5, 0.5), (0.5, 0.5, 0.5))\n",
    "])\n",
    "\n",
    "# Load the test dataset from the specified directory\n",
    "test_data_dir = \"data/raw/test\"\n",
    "test_dataset = datasets.ImageFolder(root=test_data_dir, transform=test_transforms)\n",
    "\n",
    "# Create a DataLoader for the test set\n",
    "batch_size = 64\n",
    "test_loader = DataLoader(test_dataset, batch_size=batch_size, shuffle=False, num_workers=2)\n",
    "\n",
    "# Print dataset information\n",
    "print(f\"Test dataset loaded from {test_data_dir}\")\n",
    "print(f\"Test set size: {len(test_dataset)}\")\n",
    "class_names = test_dataset.classes\n",
    "print(f\"Classes: {class_names}\")\n"
   ]
  },
  {
   "cell_type": "code",
   "execution_count": 4,
   "metadata": {},
   "outputs": [
    {
     "name": "stdout",
     "output_type": "stream",
     "text": [
      "Best model loaded successfully and set to evaluation mode.\n"
     ]
    }
   ],
   "source": [
    "# --- 2.2. Load Trained Model ---\n",
    "\n",
    "# Initialize the model architecture\n",
    "model = SimpleCNN(num_classes=len(class_names)).to(device)\n",
    "\n",
    "# Load the saved weights from the best model checkpoint\n",
    "checkpoint = torch.load(\"models/best_model.pth\", map_location=device)\n",
    "model.load_state_dict(checkpoint[\"state_dict\"])\n",
    "\n",
    "# Set the model to evaluation mode\n",
    "# This is crucial as it disables layers like Dropout and BatchNorm's training behavior\n",
    "model.eval()\n",
    "\n",
    "print(\"Best model loaded successfully and set to evaluation mode.\")\n"
   ]
  },
  {
   "cell_type": "markdown",
   "metadata": {},
   "source": [
    "## 3. Overall Performance Evaluation\n",
    "\n",
    "We'll start by getting a high-level view of the model's performance on the entire test set using overall loss and accuracy."
   ]
  },
  {
   "cell_type": "code",
   "execution_count": 5,
   "metadata": {},
   "outputs": [
    {
     "name": "stderr",
     "output_type": "stream",
     "text": [
      "                                                                                      \r"
     ]
    },
    {
     "name": "stdout",
     "output_type": "stream",
     "text": [
      "Test Loss: 2.2720\n",
      "Test Accuracy: 46.88%\n"
     ]
    }
   ],
   "source": [
    "# Evaluate the model on the test loader\n",
    "# This function returns metrics and raw predictions for further analysis\n",
    "test_loss, test_accuracy, all_preds, all_labels, all_probs = evaluate_model(\n",
    "    model, test_loader, nn.CrossEntropyLoss(), device\n",
    ")\n",
    "\n",
    "print(f\"Test Loss: {test_loss:.4f}\")\n",
    "print(f\"Test Accuracy: {test_accuracy:.2f}%\")\n"
   ]
  },
  {
   "cell_type": "markdown",
   "metadata": {},
   "source": [
    "## 4. Detailed Performance Analysis\n",
    "\n",
    "Now, let's dive deeper into the model's performance with more detailed metrics and visualizations."
   ]
  },
  {
   "cell_type": "markdown",
   "metadata": {},
   "source": [
    "### 4.1. Classification Report\n",
    "\n",
    "The classification report provides key metrics—precision, recall, and F1-score—for each class. This helps us identify if the model is biased towards or struggles with specific categories."
   ]
  },
  {
   "cell_type": "code",
   "execution_count": 6,
   "metadata": {},
   "outputs": [
    {
     "name": "stdout",
     "output_type": "stream",
     "text": [
      "Classification Report:\n",
      "               precision    recall  f1-score   support\n",
      "\n",
      "        apple       0.71      0.69      0.70       100\n",
      "aquarium_fish       0.62      0.58      0.60       100\n",
      "         baby       0.38      0.31      0.34       100\n",
      "         bear       0.24      0.18      0.21       100\n",
      "       beaver       0.20      0.20      0.20       100\n",
      "          bed       0.41      0.49      0.45       100\n",
      "          bee       0.48      0.55      0.51       100\n",
      "       beetle       0.53      0.48      0.51       100\n",
      "      bicycle       0.51      0.55      0.53       100\n",
      "       bottle       0.61      0.58      0.59       100\n",
      "         bowl       0.35      0.40      0.37       100\n",
      "          boy       0.25      0.23      0.24       100\n",
      "       bridge       0.48      0.43      0.46       100\n",
      "          bus       0.42      0.41      0.42       100\n",
      "    butterfly       0.37      0.34      0.35       100\n",
      "        camel       0.41      0.34      0.37       100\n",
      "          can       0.48      0.48      0.48       100\n",
      "       castle       0.56      0.61      0.59       100\n",
      "  caterpillar       0.48      0.44      0.46       100\n",
      "       cattle       0.34      0.28      0.31       100\n",
      "        chair       0.77      0.79      0.78       100\n",
      "   chimpanzee       0.51      0.65      0.57       100\n",
      "        clock       0.36      0.42      0.39       100\n",
      "        cloud       0.67      0.64      0.65       100\n",
      "    cockroach       0.74      0.73      0.73       100\n",
      "        couch       0.38      0.33      0.35       100\n",
      "         crab       0.47      0.46      0.46       100\n",
      "    crocodile       0.39      0.43      0.41       100\n",
      "          cup       0.68      0.69      0.69       100\n",
      "     dinosaur       0.47      0.38      0.42       100\n",
      "      dolphin       0.38      0.43      0.41       100\n",
      "     elephant       0.43      0.40      0.41       100\n",
      "     flatfish       0.57      0.46      0.51       100\n",
      "       forest       0.47      0.53      0.50       100\n",
      "          fox       0.43      0.42      0.42       100\n",
      "         girl       0.22      0.21      0.22       100\n",
      "      hamster       0.53      0.44      0.48       100\n",
      "        house       0.34      0.43      0.38       100\n",
      "     kangaroo       0.27      0.36      0.31       100\n",
      "     keyboard       0.62      0.65      0.63       100\n",
      "         lamp       0.44      0.42      0.43       100\n",
      "   lawn_mower       0.63      0.71      0.67       100\n",
      "      leopard       0.34      0.50      0.41       100\n",
      "         lion       0.47      0.50      0.48       100\n",
      "       lizard       0.26      0.31      0.29       100\n",
      "      lobster       0.38      0.38      0.38       100\n",
      "          man       0.26      0.26      0.26       100\n",
      "   maple_tree       0.63      0.49      0.55       100\n",
      "   motorcycle       0.60      0.75      0.66       100\n",
      "     mountain       0.61      0.62      0.62       100\n",
      "        mouse       0.26      0.22      0.24       100\n",
      "     mushroom       0.52      0.57      0.55       100\n",
      "     oak_tree       0.55      0.73      0.63       100\n",
      "       orange       0.66      0.69      0.67       100\n",
      "       orchid       0.51      0.56      0.53       100\n",
      "        otter       0.25      0.16      0.20       100\n",
      "    palm_tree       0.67      0.58      0.62       100\n",
      "         pear       0.54      0.43      0.48       100\n",
      " pickup_truck       0.54      0.61      0.57       100\n",
      "    pine_tree       0.41      0.36      0.39       100\n",
      "        plain       0.80      0.79      0.79       100\n",
      "        plate       0.57      0.50      0.53       100\n",
      "        poppy       0.54      0.51      0.53       100\n",
      "    porcupine       0.35      0.36      0.36       100\n",
      "       possum       0.33      0.25      0.28       100\n",
      "       rabbit       0.26      0.19      0.22       100\n",
      "      raccoon       0.31      0.39      0.35       100\n",
      "          ray       0.51      0.38      0.44       100\n",
      "         road       0.82      0.75      0.78       100\n",
      "       rocket       0.61      0.63      0.62       100\n",
      "         rose       0.47      0.42      0.44       100\n",
      "          sea       0.67      0.63      0.65       100\n",
      "         seal       0.18      0.15      0.16       100\n",
      "        shark       0.44      0.38      0.41       100\n",
      "        shrew       0.23      0.32      0.27       100\n",
      "        skunk       0.64      0.72      0.68       100\n",
      "   skyscraper       0.72      0.75      0.74       100\n",
      "        snail       0.34      0.26      0.30       100\n",
      "        snake       0.28      0.38      0.32       100\n",
      "       spider       0.51      0.46      0.48       100\n",
      "     squirrel       0.24      0.17      0.20       100\n",
      "    streetcar       0.41      0.56      0.48       100\n",
      "    sunflower       0.74      0.76      0.75       100\n",
      " sweet_pepper       0.46      0.39      0.42       100\n",
      "        table       0.39      0.34      0.36       100\n",
      "         tank       0.50      0.59      0.54       100\n",
      "    telephone       0.50      0.53      0.51       100\n",
      "   television       0.52      0.61      0.56       100\n",
      "        tiger       0.40      0.46      0.43       100\n",
      "      tractor       0.43      0.56      0.49       100\n",
      "        train       0.39      0.38      0.38       100\n",
      "        trout       0.60      0.63      0.61       100\n",
      "        tulip       0.32      0.25      0.28       100\n",
      "       turtle       0.37      0.28      0.32       100\n",
      "     wardrobe       0.73      0.81      0.77       100\n",
      "        whale       0.55      0.53      0.54       100\n",
      "  willow_tree       0.40      0.38      0.39       100\n",
      "         wolf       0.43      0.45      0.44       100\n",
      "        woman       0.25      0.26      0.25       100\n",
      "         worm       0.48      0.45      0.46       100\n",
      "\n",
      "     accuracy                           0.47     10000\n",
      "    macro avg       0.47      0.47      0.47     10000\n",
      " weighted avg       0.47      0.47      0.47     10000\n",
      "\n"
     ]
    }
   ],
   "source": [
    "print(\"Classification Report:\")\n",
    "print(classification_report(all_labels, all_preds, target_names=class_names))\n"
   ]
  },
  {
   "cell_type": "markdown",
   "metadata": {},
   "source": [
    "### 4.2. Top-K Accuracy\n",
    "\n",
    "Top-K accuracy measures if the true label is among the model's top `K` predictions. This is useful in scenarios where the second or third guess might still be contextually relevant.\n",
    "- **Top-1 Accuracy:** The standard accuracy (the top prediction must be correct).\n",
    "- **Top-5 Accuracy:** The true label must be in the top 5 predictions."
   ]
  },
  {
   "cell_type": "code",
   "execution_count": 7,
   "metadata": {},
   "outputs": [
    {
     "name": "stdout",
     "output_type": "stream",
     "text": [
      "Top-1 Accuracy (Exact Match): 46.88%\n",
      "Top-5 Accuracy (Correct label in top 5): 75.52%\n"
     ]
    }
   ],
   "source": [
    "top1_acc = top_k_accuracy(all_labels, all_probs, k=1)\n",
    "top5_acc = top_k_accuracy(all_labels, all_probs, k=5)\n",
    "\n",
    "print(f\"Top-1 Accuracy (Exact Match): {top1_acc:.2f}%\")\n",
    "print(f\"Top-5 Accuracy (Correct label in top 5): {top5_acc:.2f}%\")\n"
   ]
  },
  {
   "cell_type": "markdown",
   "metadata": {},
   "source": [
    "### 4.3. Confusion Matrix\n",
    "\n",
    "The confusion matrix provides a visual representation of the model's predictions versus the actual labels. The diagonal elements show the number of correct predictions for each class, while off-diagonal elements reveal where the model is making mistakes."
   ]
  },
  {
   "cell_type": "code",
   "execution_count": null,
   "metadata": {},
   "outputs": [],
   "source": [
    "plt.figure(figsize=(12, 10))\n",
    "plot_confusion_matrix(all_labels, all_preds, class_names)\n",
    "plt.title(\"Confusion Matrix\")\n",
    "plt.savefig(\"results/confusion_matrix.png\")\n",
    "plt.show()\n"
   ]
  },
  {
   "cell_type": "markdown",
   "metadata": {},
   "source": [
    "### 4.4. ROC Curves (Receiver Operating Characteristic)\n",
    "\n",
    "ROC curves illustrate the diagnostic ability of a classifier as its discrimination threshold is varied. For a multi-class problem, we plot one curve per class (one-vs-rest). A curve that bows towards the top-left corner indicates a better-performing classifier. The Area Under the Curve (AUC) summarizes this performance."
   ]
  },
  {
   "cell_type": "code",
   "execution_count": null,
   "metadata": {},
   "outputs": [],
   "source": [
    "plt.figure(figsize=(12, 10))\n",
    "plot_roc_curves(all_labels, all_probs, class_names)\n",
    "plt.title(\"ROC Curves (One-vs-Rest)\")\n",
    "plt.savefig(\"results/roc_curves.png\")\n",
    "plt.show()\n"
   ]
  },
  {
   "cell_type": "markdown",
   "metadata": {},
   "source": [
    "## 5. Qualitative Analysis\n",
    "\n",
    "Beyond metrics, it's insightful to look at individual examples to understand the model's behavior."
   ]
  },
  {
   "cell_type": "markdown",
   "metadata": {},
   "source": [
    "### 5.1. Visualizing Individual Predictions\n",
    "\n",
    "Let's visualize a few sample images from the test set along with their true labels and the model's predictions. This helps us build intuition about the kinds of images the model handles well and where it fails."
   ]
  },
  {
   "cell_type": "code",
   "execution_count": null,
   "metadata": {},
   "outputs": [],
   "source": [
    "visualize_predictions(model, test_loader, device, class_names, num_samples=10)\n"
   ]
  },
  {
   "cell_type": "markdown",
   "metadata": {},
   "source": [
    "### 5.2. Error Analysis: Most Common Misclassifications\n",
    "\n",
    "By analyzing the confusion matrix numerically, we can programmatically identify the most frequent errors. This can reveal systematic issues, such as confusion between visually similar classes (e.g., 'cat' vs. 'dog', or 'car' vs. 'truck')."
   ]
  },
  {
   "cell_type": "code",
   "execution_count": null,
   "metadata": {},
   "outputs": [],
   "source": [
    "# Get the raw confusion matrix from sklearn\n",
    "cm = confusion_matrix(all_labels, all_preds)\n",
    "\n",
    "# Set diagonal to zero to focus only on misclassifications\n",
    "np.fill_diagonal(cm, 0)\n",
    "\n",
    "# Find the indices of the largest errors\n",
    "indices = np.dstack(np.unravel_index(np.argsort(cm.ravel()), cm.shape))[0]\n",
    "\n",
    "print(\"Top 10 Most Common Misclassifications:\")\n",
    "print(\"=======================================\")\n",
    "for i, j in reversed(indices[-10:]):\n",
    "    count = cm[i, j]\n",
    "    if count == 0:\n",
    "        continue\n",
    "    print(f\"'{class_names[i]}' misclassified as '{class_names[j]}': {count} times\")\n"
   ]
  },
  {
   "cell_type": "markdown",
   "metadata": {},
   "source": [
    "## 6. Saving Results and Conclusion\n",
    "\n",
    "Finally, we save all the collected evaluation data—metrics, predictions, and labels—to a file. This allows for easy reloading and comparison with other models in the future without needing to re-run the evaluation."
   ]
  },
  {
   "cell_type": "code",
   "execution_count": null,
   "metadata": {},
   "outputs": [],
   "source": [
    "# Consolidate results into a dictionary\n",
    "results = {\n",
    "    \"test_loss\": test_loss,\n",
    "    \"test_accuracy\": test_accuracy,\n",
    "    \"predictions\": all_preds,\n",
    "    \"labels\": all_labels,\n",
    "    \"probabilities\": all_probs,\n",
    "    \"class_names\": class_names,\n",
    "    \"classification_report\": classification_report(\n",
    "        all_labels, all_preds, target_names=class_names, output_dict=True\n",
    "    ),\n",
    "}\n",
    "\n",
    "# Save the results dictionary to a .npy file\n",
    "np.save(\"results/evaluation_results.npy\", results, allow_pickle=True)\n",
    "\n",
    "print(\"Evaluation complete. Results and visualizations have been saved to the 'results/' directory.\")\n"
   ]
  }
 ],
 "metadata": {
  "jupytext": {
   "text_representation": {
    "extension": ".py",
    "format_name": "light",
    "format_version": "1.5",
    "jupytext_version": "1.14.5"
   }
  },
  "kernelspec": {
   "display_name": "DASC7606A-B",
   "language": "python",
   "name": "python3"
  },
  "language_info": {
   "codemirror_mode": {
    "name": "ipython",
    "version": 3
   },
   "file_extension": ".py",
   "mimetype": "text/x-python",
   "name": "python",
   "nbconvert_exporter": "python",
   "pygments_lexer": "ipython3",
   "version": "3.13.2"
  }
 },
 "nbformat": 4,
 "nbformat_minor": 4
}
